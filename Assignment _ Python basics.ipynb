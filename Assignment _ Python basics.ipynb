{
 "cells": [
  {
   "cell_type": "markdown",
   "id": "9f25ffa3-0cc0-42fc-ab81-a2fde52a1759",
   "metadata": {},
   "source": [
    "# THEORY QUESTION ANSWER\n",
    "\n",
    "# 1. What is Python, and why is it popular ?\n",
    ":- Python is a easy to use for data analysis and also versatile, high-level, general-purpose programming language known for its readability and ease of use, making it an applications, including web development, data science, and machine learning.\n",
    "\n",
    "\n",
    "# 2. What is an interpreter in Python ?\n",
    ":- Interpreters are the computer program that will convert the source code and program that reads and executes python code and other programming language. \n",
    "\n",
    "\n",
    "# 3. What are pre-defined keywords in Python ?\n",
    ":- Python have some predefine and reserved keywords they are used to define the syntax of coding .\n",
    "\n",
    "\n",
    "# 4. Can keywords be used as variable names ?\n",
    ":- No, because keywords are reserved words with predefined meanings used for languages syntax and structure.\n",
    "\n",
    "\n",
    "# 5. What is mutability in Python ?\n",
    ":- Mutable data types are those whose values can be changed . such as lists and dictionaries, allow you to change their value or data directly without affecting their identity. \n",
    "\n",
    "\n",
    "# 6. Why are lists mutable, but tuples are immutable ?\n",
    ":- List are mutable because they are changable or modified in coding after creating and tuples are immutable because they are non-changable or not modified after creating .\n",
    "\n",
    "\n",
    "# 7.  What is the difference between “==” and “is” operators in Python ?\n",
    ":-  The '==' is known as the equality operator. The 'is' is known as the identity operator. Basics, The == operator helps us compare the equality of objects. The \"is\" operator is a positive equivalence checking operator.\n",
    "\n",
    "\n",
    "# 8. What are logical operators in Python ?\n",
    ":- Logical operators in Python combine two or more operands and conduct logical comparisons on them . There are three types of logics \"AND\" , \"OR\" , \"NOT\" .\n",
    "\n",
    "\n",
    "# 9. What is type casting in Python ?\n",
    ":- Type casting, also known as type conversion, is the process of converting one data type into another data type .\n",
    "\n",
    "\n",
    "# 10. What is the difference between implicit and explicit type casting ? \n",
    ":-  Implicit type conversion is performed by a Python interpreter only. Explicit type conversion is performed by the user by explicitly using type conversion functions in the program code.\n",
    "\n",
    "\n",
    "# 11. What is the purpose of conditional statements in Python ?\n",
    ":- Conditional statements (if, else if, and else) in programming allow you to control the flow of execution based on whether a condition is true or false, enabling your code to make decisions and perform different actions accordingly. \n",
    "\n",
    "\n",
    "# 12.  How does the elif statement work ?\n",
    ":-  elif is short for \"else if\" and is used when the first if statement isn't true, but you want to check for another condition.\n",
    "\n",
    "\n",
    "# 13. What is the difference between for and while loops ?  \n",
    ":- The difference between for loop and while loop is that for allows initialization, condition checking and iteration statements on the top of the loop, whereas while only allows initialization and condition checking at the top of the loop.\n",
    "\n",
    "\n",
    "# 14. Describe a scenario where a while loop is more suitable than a for loop ? \n",
    ":- Prefer a while loop when the condition has nothing to do with a collection/array and does not require a set number of iterations. Prefer a foreach or a for loop whenever the loop is related to a collection or array.\n",
    "\n"
   ]
  },
  {
   "cell_type": "code",
   "execution_count": null,
   "id": "ad91497e-c9df-4fbd-b58f-476f67d1eb8b",
   "metadata": {},
   "outputs": [],
   "source": [
    "# PRACTICAL QUESTION "
   ]
  },
  {
   "cell_type": "code",
   "execution_count": 1,
   "id": "99a7ac9e-ac83-4707-95af-146acf09f0b1",
   "metadata": {},
   "outputs": [
    {
     "name": "stdout",
     "output_type": "stream",
     "text": [
      "hello world\n"
     ]
    }
   ],
   "source": [
    "# 1. Write a Python program to print \"Hello, World!\n",
    "\n",
    "a = \"hello world\" \n",
    "print(a)"
   ]
  },
  {
   "cell_type": "code",
   "execution_count": 2,
   "id": "f8e90d49-dad6-468c-a2f7-7be0cc3a4f80",
   "metadata": {},
   "outputs": [
    {
     "name": "stdout",
     "output_type": "stream",
     "text": [
      "deepti singh 28\n"
     ]
    }
   ],
   "source": [
    "# 2.  Write a Python program that displays your name and age\n",
    "name = \"deepti singh\"\n",
    "age = 28 \n",
    "print(name, age)"
   ]
  },
  {
   "cell_type": "code",
   "execution_count": 3,
   "id": "05bed283-8c9a-4b88-81d5-0ecad9d0d012",
   "metadata": {},
   "outputs": [
    {
     "name": "stdout",
     "output_type": "stream",
     "text": [
      "\n",
      "Here is a list of the Python keywords.  Enter any keyword to get more help.\n",
      "\n",
      "False               class               from                or\n",
      "None                continue            global              pass\n",
      "True                def                 if                  raise\n",
      "and                 del                 import              return\n",
      "as                  elif                in                  try\n",
      "assert              else                is                  while\n",
      "async               except              lambda              with\n",
      "await               finally             nonlocal            yield\n",
      "break               for                 not                 \n",
      "\n"
     ]
    }
   ],
   "source": [
    "# 3. Write code to print all the pre-defined keywords in Python using the keyword library\n",
    "help(\"keywords\")"
   ]
  },
  {
   "cell_type": "code",
   "execution_count": 4,
   "id": "45f32ba7-bfc9-4c7f-84d7-bb1c1e5a1713",
   "metadata": {},
   "outputs": [
    {
     "name": "stdin",
     "output_type": "stream",
     "text": [
      "enter the keywors: a\n"
     ]
    },
    {
     "name": "stdout",
     "output_type": "stream",
     "text": [
      "False\n"
     ]
    }
   ],
   "source": [
    "# 4. Write a program that checks if a given word is a Python keyword\n",
    "a= input(\"enter the keywors:\")\n",
    "import keyword\n",
    "if keyword.iskeyword(a):\n",
    "    print(\"True\")\n",
    "else:\n",
    "    print(\"False\")\n"
   ]
  },
  {
   "cell_type": "code",
   "execution_count": 1,
   "id": "c74cc39b-7fa8-4f74-a458-96f2b815f3c2",
   "metadata": {},
   "outputs": [
    {
     "ename": "SyntaxError",
     "evalue": "invalid syntax (264434482.py, line 2)",
     "output_type": "error",
     "traceback": [
      "  \u001b[36mCell\u001b[39m\u001b[36m \u001b[39m\u001b[32mIn[1]\u001b[39m\u001b[32m, line 2\u001b[39m\n\u001b[31m    \u001b[39m\u001b[31mfor each.\u001b[39m\n             ^\n\u001b[31mSyntaxError\u001b[39m\u001b[31m:\u001b[39m invalid syntax\n"
     ]
    }
   ],
   "source": [
    "# 5. Create a list and tuple in Python, and demonstrate how attempting to change an element works differently \n",
    "for each.\n",
    "\n",
    "tup(1,2,3)\n",
    "type(tup) # tuple\n",
    "tup[0] = \"Namaskar\"\n",
    "print(tup)\n",
    "#Tuple is immutable so element can not be changed\n",
    "\n",
    "l = [1, 2, 5.04, \"India\"]\n",
    "l[0] # 1\n",
    "l[0] = \"world\"\n",
    "print(l)\n",
    "#List is mutable so element can  be changed\n"
   ]
  },
  {
   "cell_type": "code",
   "execution_count": 2,
   "id": "06e6b041-4617-4b9f-bc7a-56a3e14c9398",
   "metadata": {},
   "outputs": [
    {
     "ename": "NameError",
     "evalue": "name 'l' is not defined",
     "output_type": "error",
     "traceback": [
      "\u001b[31m---------------------------------------------------------------------------\u001b[39m",
      "\u001b[31mNameError\u001b[39m                                 Traceback (most recent call last)",
      "\u001b[36mCell\u001b[39m\u001b[36m \u001b[39m\u001b[32mIn[2]\u001b[39m\u001b[32m, line 7\u001b[39m\n\u001b[32m      5\u001b[39m l_1[\u001b[32m0\u001b[39m]\n\u001b[32m      6\u001b[39m l_1[\u001b[32m0\u001b[39m] = \u001b[33m\"\u001b[39m\u001b[33malex\u001b[39m\u001b[33m\"\u001b[39m\n\u001b[32m----> \u001b[39m\u001b[32m7\u001b[39m \u001b[38;5;28mprint\u001b[39m(\u001b[43ml\u001b[49m) \u001b[38;5;66;03m# print(l_1) # mutable\u001b[39;00m\n",
      "\u001b[31mNameError\u001b[39m: name 'l' is not defined"
     ]
    }
   ],
   "source": [
    "# 6. Write a function to demonstrate the behaviour of mutable and immutable arguments\n",
    "\n",
    "\n",
    "l_1 = [1, 3, 4, \"alex\", \"PwSkills\"]\n",
    "l_1[0]\n",
    "l_1[0] = \"alex\"\n",
    "print(l) # print(l_1) # mutable"
   ]
  },
  {
   "cell_type": "code",
   "execution_count": null,
   "id": "6897446c-b3ca-4ebc-9b67-031167244671",
   "metadata": {},
   "outputs": [],
   "source": [
    "# 7. both (6 and 7 questions are same)"
   ]
  },
  {
   "cell_type": "code",
   "execution_count": 3,
   "id": "5a20c4e8-94a6-4a37-8429-412f37c06c38",
   "metadata": {},
   "outputs": [
    {
     "name": "stdin",
     "output_type": "stream",
     "text": [
      "Enter the num_1: 60\n",
      "Enter the num_2: 40\n"
     ]
    },
    {
     "name": "stdout",
     "output_type": "stream",
     "text": [
      "false\n",
      "true\n"
     ]
    }
   ],
   "source": [
    "# 8. Write a program to demonstrate the use of logical operator\n",
    "\n",
    "a = input(\"Enter the num_1:\")\n",
    "b = input(\"Enter the num_2:\")\n",
    "if a < b and b > a:\n",
    "    \n",
    "     print(\"true\")\n",
    "    \n",
    "else:print(\"false\")\n",
    "\n",
    "if a > b or b > a:\n",
    "\n",
    "     print(\"true\")\n",
    "\n",
    "else:print(\"false\")\n",
    "    \n",
    "    "
   ]
  },
  {
   "cell_type": "code",
   "execution_count": 4,
   "id": "b2af9b29-48a0-4d5a-8836-19c6dba320e5",
   "metadata": {},
   "outputs": [
    {
     "name": "stdin",
     "output_type": "stream",
     "text": [
      "enter the num: 17\n"
     ]
    },
    {
     "name": "stdout",
     "output_type": "stream",
     "text": [
      "17\n",
      "<class 'str'>\n",
      "17\n",
      "<class 'int'>\n"
     ]
    },
    {
     "name": "stdin",
     "output_type": "stream",
     "text": [
      "Enter the num: 25\n"
     ]
    },
    {
     "name": "stdout",
     "output_type": "stream",
     "text": [
      "25\n",
      "<class 'str'>\n",
      "25.0\n",
      "<class 'float'>\n"
     ]
    },
    {
     "name": "stdin",
     "output_type": "stream",
     "text": [
      "Enter the string: 49\n"
     ]
    },
    {
     "name": "stdout",
     "output_type": "stream",
     "text": [
      "49\n",
      "<class 'str'>\n",
      "True\n",
      "<class 'bool'>\n"
     ]
    }
   ],
   "source": [
    "# 9. Write a python program to convert user input from string to integer,float,and boolean types.\n",
    "\n",
    "a = (input(\"enter the num:\"))\n",
    "print(a)\n",
    "print(type(a))\n",
    "\n",
    "b = int(a)\n",
    "print(b)\n",
    "print(type(b))\n",
    "\n",
    "a = (input(\"Enter the num:\"))\n",
    "print(a)\n",
    "print(type(a))\n",
    "\n",
    "b = float(a)\n",
    "print(b)\n",
    "print(type(b))\n",
    "\n",
    "a = (input(\"Enter the string:\"))\n",
    "print(a)\n",
    "print(type(a))\n",
    "\n",
    "b = bool(a)\n",
    "print(b)\n",
    "print(type(b))"
   ]
  },
  {
   "cell_type": "code",
   "execution_count": null,
   "id": "afe64e46-b40b-4f5a-8744-25b1b62d3efd",
   "metadata": {},
   "outputs": [],
   "source": []
  }
 ],
 "metadata": {
  "kernelspec": {
   "display_name": "Python 3 (ipykernel)",
   "language": "python",
   "name": "python3"
  },
  "language_info": {
   "codemirror_mode": {
    "name": "ipython",
    "version": 3
   },
   "file_extension": ".py",
   "mimetype": "text/x-python",
   "name": "python",
   "nbconvert_exporter": "python",
   "pygments_lexer": "ipython3",
   "version": "3.13.2"
  }
 },
 "nbformat": 4,
 "nbformat_minor": 5
}
